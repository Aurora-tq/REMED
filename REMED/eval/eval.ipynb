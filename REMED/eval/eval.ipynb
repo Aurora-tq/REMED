{
 "cells": [
  {
   "cell_type": "code",
   "execution_count": 4,
   "metadata": {},
   "outputs": [],
   "source": [
    "import torch\n",
    "import torchvision\n",
    "from model.chatglm1_MMD import *\n",
    "from model.chatglm2_MMD import *\n",
    "from model.chatglm1_MPD import *\n",
    "import pandas as pd\n",
    "import json\n",
    "import time\n",
    "import faiss\n",
    "import numpy as np\n",
    "import matplotlib.pyplot as plt\n",
    "import matplotlib\n",
    "from Dataloder import *\n",
    "# from chains.local_doc_qa import LocalDocQA\n",
    "from langchain.docstore.document import Document\n",
    "from langchain.vectorstores import FAISS\n",
    "from langchain.docstore.base import AddableMixin, Docstore\n",
    "import matplotlib.pyplot as plt\n",
    "from sklearn.metrics import average_precision_score,precision_recall_curve\n",
    "# langchain.vectorstores.faiss\n",
    "#加载全部数据库\n",
    "# vector_data = read_json_file(\"/mnt/workspace/pangtianqi/medical_kb_chatbot/data/dataset1.json\")\n",
    "# vector_dataset = MyDataset(vector_data)\n",
    "# vector_dataloader = torch.utils.data.DataLoader(vector_dataset, batch_size=1, shuffle=False)\n",
    "#加载测试数据库\n",
    "raw_data = read_json_file(\"/mnt/workspace/pangtianqi/medical_kb_chatbot/train/dataset2_test.json\")\n",
    "testing_dataset = MyDataset(raw_data)\n",
    "testing_dataloader = torch.utils.data.DataLoader(testing_dataset, batch_size=1, shuffle=False)"
   ]
  },
  {
   "cell_type": "code",
   "execution_count": 2,
   "metadata": {},
   "outputs": [
    {
     "name": "stdout",
     "output_type": "stream",
     "text": [
      "573\n"
     ]
    }
   ],
   "source": [
    "print(len(raw_data))"
   ]
  },
  {
   "cell_type": "code",
   "execution_count": 3,
   "metadata": {},
   "outputs": [],
   "source": [
    "#test_data = read_json_file(\"/mnt/workspace/pangtianqi/medical_kb_chatbot/train/test_finetune.json\")"
   ]
  },
  {
   "cell_type": "code",
   "execution_count": 6,
   "metadata": {},
   "outputs": [
    {
     "name": "stdout",
     "output_type": "stream",
     "text": [
      "Embedding size: 768\n"
     ]
    }
   ],
   "source": [
    "#加载模型chatglm1\n",
    "model =  MyGLU(hidden_size = 768)\n",
    "device = model.device\n",
    "# model.load_state_dict(torch.load(\"model/best_m3e_chatglm1_finetune_L2.ph\"))#\n",
    "# model.load_state_dict(torch.load(\"/mnt/workspace/pangtianqi/medical_kb_chatbot/train/model/best_m3e_chatglm1_finetune_L2_v1.1.ph\"))\n",
    "# model.load_state_dict(torch.load(\"model/best_m3e_chatglm1_finetune_v2.ph\"))\n",
    "model = model.to(device)\n",
    "# print(model)\n",
    "# print(model)\n",
    "encoder = model.embed_model\n",
    "dim =768"
   ]
  },
  {
   "cell_type": "code",
   "execution_count": 5,
   "metadata": {},
   "outputs": [],
   "source": [
    "# #加载模型chatglm2\n",
    "# config = ChatGLMConfig()\n",
    "# model = MyMLP(config)\n",
    "# device = model.device\n",
    "# model.load_state_dict(torch.load(\"model/best_m3e_chatglm2_finetune_L2.ph\"))\n",
    "\n",
    "# model = model.to(device)\n",
    "# print(model)\n",
    "# # print(model)\n",
    "# encoder = model.embed_model\n",
    "# dim =768"
   ]
  },
  {
   "cell_type": "code",
   "execution_count": 6,
   "metadata": {},
   "outputs": [],
   "source": [
    "# from sentence_transformers import SentenceTransformer\n",
    "# encoder = SentenceTransformer('/mnt/workspace/pangtianqi/medical_kb_chatbot/moka-ai/m3e-base', device='cuda:0')"
   ]
  },
  {
   "cell_type": "code",
   "execution_count": 8,
   "metadata": {},
   "outputs": [
    {
     "name": "stdout",
     "output_type": "stream",
     "text": [
      "testing_text 13990\n",
      "label_recall 169\n"
     ]
    }
   ],
   "source": [
    "#labels_recall ->所有label存在一个列表\n",
    "#labels ->按照问题划分的label列表\n",
    "testing_text = []\n",
    "labels_list = []\n",
    "labels_list_recall = []\n",
    "for batch_data in testing_dataloader:\n",
    "    # data = batch_data[1][0]\n",
    "    data,label = batch_data[2:]\n",
    "    for idx in data:\n",
    "        for content in idx:\n",
    "            testing_text.append(content)\n",
    "    labels_list_recall.append(label)\n",
    "    for i in label:\n",
    "        labels_list.append(i)\n",
    "    # print(labels_list)\n",
    "labels_recall = [torch.cat(tensor).tolist() for tensor in labels_list_recall]\n",
    "labels = [tensor.item() for tensor in labels_list]\n",
    "print(\"testing_text\",len(testing_text))\n",
    "print(\"label_recall\",len(labels_recall))"
   ]
  },
  {
   "cell_type": "code",
   "execution_count": 9,
   "metadata": {},
   "outputs": [],
   "source": [
    "#baseline: embedding vector_store\n",
    "#index ->baseline的索引\n",
    "content_list = []\n",
    "for batch_data in testing_text:\n",
    "    # data, label = batch_data[2:]\n",
    "    content_vectors = encoder.encode(batch_data)\n",
    "    content_list.append(content_vectors)\n",
    "\n",
    "vectors = np.array(content_list,dtype=np.float32)\n",
    "# augmented_vectors = np.flip(vectors, axis=1)\n",
    "# vectors = np.ascontiguousarray(vectors)\n",
    "# augmented_vectors = np.ascontiguousarray(augmented_vectors)\n",
    "# combined_vectors = np.concatenate((vectors, augmented_vectors), axis=1,dtype=np.float32)\n",
    "# print(\"原始数据形状:\", vectors.shape)\n",
    "# print(\"增强后的数据形状:\", augmented_vectors.shape)\n",
    "# print(\"拼接后的数据形状:\", combined_vectors.shape)\n",
    "# print(\"vectors\",len(vectors))\n",
    "# 选择faiss index\n",
    "faiss.normalize_L2(vectors)\n",
    "index = faiss.IndexFlatIP(dim)\n",
    "# 数据插入\n",
    "# 训练索引获取重构能力\n",
    "index.train(vectors)\n",
    "index.add(vectors)"
   ]
  },
  {
   "cell_type": "code",
   "execution_count": 10,
   "metadata": {},
   "outputs": [
    {
     "name": "stdout",
     "output_type": "stream",
     "text": [
      "vectors_ (13990, 768)\n"
     ]
    }
   ],
   "source": [
    "#model: embedding vector_store\n",
    "#index_ -> model的索引\n",
    "content_list_ = []\n",
    "for batch_data in testing_text:\n",
    "    # data, label = batch_data[2:]\n",
    "    content_vectors_ = model(batch_data)\n",
    "    content_vectors_ = content_vectors_.cpu()\n",
    "    content_vectors_ = content_vectors_.detach().numpy()\n",
    "    content_list_.append(content_vectors_)\n",
    "\n",
    "vectors_ = np.array(content_list_,dtype=np.float32)\n",
    "print(\"vectors_\",vectors_.shape)\n",
    "\n",
    "# 选择faiss index\n",
    "faiss.normalize_L2(vectors_)\n",
    "\n",
    "\n",
    "index_ = faiss.IndexFlatIP(dim)\n",
    "\n",
    "# 数据插入\n",
    "# 训练索引获取重构能力\n",
    "index_.train(vectors_)\n",
    "index_.add(vectors_)"
   ]
  },
  {
   "cell_type": "code",
   "execution_count": 18,
   "metadata": {},
   "outputs": [
    {
     "name": "stdout",
     "output_type": "stream",
     "text": [
      "top_k 2\n",
      "hello\n"
     ]
    },
    {
     "data": {
      "text/html": [
       "<pre style=\"white-space:pre;overflow-x:auto;line-height:normal;font-family:Menlo,'DejaVu Sans Mono',consolas,'Courier New',monospace\"><span style=\"color: #800000; text-decoration-color: #800000\">╭─────────────────────────────── </span><span style=\"color: #800000; text-decoration-color: #800000; font-weight: bold\">Traceback </span><span style=\"color: #bf7f7f; text-decoration-color: #bf7f7f; font-weight: bold\">(most recent call last)</span><span style=\"color: #800000; text-decoration-color: #800000\"> ────────────────────────────────╮</span>\n",
       "<span style=\"color: #800000; text-decoration-color: #800000\">│</span> <span style=\"color: #bfbf7f; text-decoration-color: #bfbf7f\">/tmp/ipykernel_65720/</span><span style=\"color: #808000; text-decoration-color: #808000; font-weight: bold\">2137758654.py</span>:<span style=\"color: #0000ff; text-decoration-color: #0000ff\">27</span> in <span style=\"color: #00ff00; text-decoration-color: #00ff00\">&lt;module&gt;</span>                                                <span style=\"color: #800000; text-decoration-color: #800000\">│</span>\n",
       "<span style=\"color: #800000; text-decoration-color: #800000\">│</span>                                                                                                  <span style=\"color: #800000; text-decoration-color: #800000\">│</span>\n",
       "<span style=\"color: #800000; text-decoration-color: #800000\">│</span> <span style=\"color: #800000; text-decoration-color: #800000; font-style: italic\">[Errno 2] No such file or directory: '/tmp/ipykernel_65720/2137758654.py'</span>                        <span style=\"color: #800000; text-decoration-color: #800000\">│</span>\n",
       "<span style=\"color: #800000; text-decoration-color: #800000\">│</span>                                                                                                  <span style=\"color: #800000; text-decoration-color: #800000\">│</span>\n",
       "<span style=\"color: #800000; text-decoration-color: #800000\">│</span> <span style=\"color: #bfbf7f; text-decoration-color: #bfbf7f\">/home/pai/envs/kb_chat/lib/python3.9/site-packages/faiss/</span><span style=\"color: #808000; text-decoration-color: #808000; font-weight: bold\">class_wrappers.py</span>:<span style=\"color: #0000ff; text-decoration-color: #0000ff\">327</span> in                <span style=\"color: #800000; text-decoration-color: #800000\">│</span>\n",
       "<span style=\"color: #800000; text-decoration-color: #800000\">│</span> <span style=\"color: #00ff00; text-decoration-color: #00ff00\">replacement_search</span>                                                                               <span style=\"color: #800000; text-decoration-color: #800000\">│</span>\n",
       "<span style=\"color: #800000; text-decoration-color: #800000\">│</span>                                                                                                  <span style=\"color: #800000; text-decoration-color: #800000\">│</span>\n",
       "<span style=\"color: #800000; text-decoration-color: #800000\">│</span>   <span style=\"color: #7f7f7f; text-decoration-color: #7f7f7f\">324 </span><span style=\"color: #bfbf7f; text-decoration-color: #bfbf7f\">│   │   │   </span><span style=\"color: #808000; text-decoration-color: #808000\">When not enough results are found, the label is set to -1</span>                      <span style=\"color: #800000; text-decoration-color: #800000\">│</span>\n",
       "<span style=\"color: #800000; text-decoration-color: #800000\">│</span>   <span style=\"color: #7f7f7f; text-decoration-color: #7f7f7f\">325 </span><span style=\"color: #bfbf7f; text-decoration-color: #bfbf7f\">│   │   </span><span style=\"color: #808000; text-decoration-color: #808000\">\"\"\"</span>                                                                                <span style=\"color: #800000; text-decoration-color: #800000\">│</span>\n",
       "<span style=\"color: #800000; text-decoration-color: #800000\">│</span>   <span style=\"color: #7f7f7f; text-decoration-color: #7f7f7f\">326 │   │   </span>                                                                                   <span style=\"color: #800000; text-decoration-color: #800000\">│</span>\n",
       "<span style=\"color: #800000; text-decoration-color: #800000\">│</span> <span style=\"color: #800000; text-decoration-color: #800000\">❱ </span>327 <span style=\"color: #7f7f7f; text-decoration-color: #7f7f7f\">│   │   </span>n, d = x.shape                                                                     <span style=\"color: #800000; text-decoration-color: #800000\">│</span>\n",
       "<span style=\"color: #800000; text-decoration-color: #800000\">│</span>   <span style=\"color: #7f7f7f; text-decoration-color: #7f7f7f\">328 │   │   </span>x = np.ascontiguousarray(x, dtype=<span style=\"color: #808000; text-decoration-color: #808000\">'float32'</span>)                                       <span style=\"color: #800000; text-decoration-color: #800000\">│</span>\n",
       "<span style=\"color: #800000; text-decoration-color: #800000\">│</span>   <span style=\"color: #7f7f7f; text-decoration-color: #7f7f7f\">329 │   │   </span><span style=\"color: #0000ff; text-decoration-color: #0000ff\">assert</span> d == <span style=\"color: #00ffff; text-decoration-color: #00ffff\">self</span>.d                                                                 <span style=\"color: #800000; text-decoration-color: #800000\">│</span>\n",
       "<span style=\"color: #800000; text-decoration-color: #800000\">│</span>   <span style=\"color: #7f7f7f; text-decoration-color: #7f7f7f\">330 </span>                                                                                           <span style=\"color: #800000; text-decoration-color: #800000\">│</span>\n",
       "<span style=\"color: #800000; text-decoration-color: #800000\">╰──────────────────────────────────────────────────────────────────────────────────────────────────╯</span>\n",
       "<span style=\"color: #ff0000; text-decoration-color: #ff0000; font-weight: bold\">ValueError: </span>too many values to unpack <span style=\"font-weight: bold\">(</span>expected <span style=\"color: #008080; text-decoration-color: #008080; font-weight: bold\">2</span><span style=\"font-weight: bold\">)</span>\n",
       "</pre>\n"
      ],
      "text/plain": [
       "\u001b[31m╭─\u001b[0m\u001b[31m──────────────────────────────\u001b[0m\u001b[31m \u001b[0m\u001b[1;31mTraceback \u001b[0m\u001b[1;2;31m(most recent call last)\u001b[0m\u001b[31m \u001b[0m\u001b[31m───────────────────────────────\u001b[0m\u001b[31m─╮\u001b[0m\n",
       "\u001b[31m│\u001b[0m \u001b[2;33m/tmp/ipykernel_65720/\u001b[0m\u001b[1;33m2137758654.py\u001b[0m:\u001b[94m27\u001b[0m in \u001b[92m<module>\u001b[0m                                                \u001b[31m│\u001b[0m\n",
       "\u001b[31m│\u001b[0m                                                                                                  \u001b[31m│\u001b[0m\n",
       "\u001b[31m│\u001b[0m \u001b[3;31m[Errno 2] No such file or directory: '/tmp/ipykernel_65720/2137758654.py'\u001b[0m                        \u001b[31m│\u001b[0m\n",
       "\u001b[31m│\u001b[0m                                                                                                  \u001b[31m│\u001b[0m\n",
       "\u001b[31m│\u001b[0m \u001b[2;33m/home/pai/envs/kb_chat/lib/python3.9/site-packages/faiss/\u001b[0m\u001b[1;33mclass_wrappers.py\u001b[0m:\u001b[94m327\u001b[0m in                \u001b[31m│\u001b[0m\n",
       "\u001b[31m│\u001b[0m \u001b[92mreplacement_search\u001b[0m                                                                               \u001b[31m│\u001b[0m\n",
       "\u001b[31m│\u001b[0m                                                                                                  \u001b[31m│\u001b[0m\n",
       "\u001b[31m│\u001b[0m   \u001b[2m324 \u001b[0m\u001b[2;33m│   │   │   \u001b[0m\u001b[33mWhen not enough results are found, the label is set to -1\u001b[0m                      \u001b[31m│\u001b[0m\n",
       "\u001b[31m│\u001b[0m   \u001b[2m325 \u001b[0m\u001b[2;33m│   │   \u001b[0m\u001b[33m\"\"\"\u001b[0m                                                                                \u001b[31m│\u001b[0m\n",
       "\u001b[31m│\u001b[0m   \u001b[2m326 \u001b[0m\u001b[2m│   │   \u001b[0m                                                                                   \u001b[31m│\u001b[0m\n",
       "\u001b[31m│\u001b[0m \u001b[31m❱ \u001b[0m327 \u001b[2m│   │   \u001b[0mn, d = x.shape                                                                     \u001b[31m│\u001b[0m\n",
       "\u001b[31m│\u001b[0m   \u001b[2m328 \u001b[0m\u001b[2m│   │   \u001b[0mx = np.ascontiguousarray(x, dtype=\u001b[33m'\u001b[0m\u001b[33mfloat32\u001b[0m\u001b[33m'\u001b[0m)                                       \u001b[31m│\u001b[0m\n",
       "\u001b[31m│\u001b[0m   \u001b[2m329 \u001b[0m\u001b[2m│   │   \u001b[0m\u001b[94massert\u001b[0m d == \u001b[96mself\u001b[0m.d                                                                 \u001b[31m│\u001b[0m\n",
       "\u001b[31m│\u001b[0m   \u001b[2m330 \u001b[0m                                                                                           \u001b[31m│\u001b[0m\n",
       "\u001b[31m╰──────────────────────────────────────────────────────────────────────────────────────────────────╯\u001b[0m\n",
       "\u001b[1;91mValueError: \u001b[0mtoo many values to unpack \u001b[1m(\u001b[0mexpected \u001b[1;36m2\u001b[0m\u001b[1m)\u001b[0m\n"
      ]
     },
     "metadata": {},
     "output_type": "display_data"
    }
   ],
   "source": [
    "#baseline -> 计算准确率，召回率、精度\n",
    "k = [2,4,6,8,10,20,30]\n",
    "for top_k in k:\n",
    "    print(\"top_k\",top_k)\n",
    "    count= 0\n",
    "    precision_all, recall_all, accuracy_all = 0, 0, 0\n",
    "    start_time = time.time()\n",
    "    label_pair = []\n",
    "    D_pair = []\n",
    "    score_pair = []\n",
    "    text_list = []\n",
    "    query_list = []\n",
    "    len_query = len(testing_dataloader)\n",
    "    hit_count = 0\n",
    "    for batch_data in testing_dataloader:\n",
    "        count_1 = 0\n",
    "        tp, fp, fn, tn = 0, 0, 0, 0\n",
    "        query = batch_data[1][0]\n",
    "        # print(\"query\",query)\n",
    "        # query_list.append(query)\n",
    "        # data = batch_data[1]\n",
    "        data,label = batch_data[2:]\n",
    "        # print(len(data))\n",
    "        query_feat = np.array([encoder.encode(query)]) # 得到baseline query embed\n",
    "        faiss.normalize_L2(query_feat)\n",
    "        print(\"hello\")\n",
    "        D, I= index.search(query_feat, top_k) #提取出ours的topk\n",
    "        #print('scores_, indices_',D_, I_[0])\n",
    "        \n",
    "        D_pair.append(D)\n",
    "        for value in label:\n",
    "            if value == 1:\n",
    "                count_1 += 1 #这个q对应的回答中所有label为1的个数\n",
    "        #print(\"count_1\",count_1)\n",
    "        # for text in I_[0]:\n",
    "            # text_list.append(testing_text[text])\n",
    "            #print(\"content\",testing_text[text])\n",
    "        for i in I[0]:\n",
    "            #print(\"labels[i]\",labels[i])\n",
    "            label_pair.append(labels[i])\n",
    "        # lst = [] # 模型召回的\n",
    "        \n",
    "        # count_0 = len(label[0])\n",
    "        for i in I[0]:\n",
    "            if labels[i] == 1:\n",
    "                tp = tp+1\n",
    "            # elif labels[i] == 0: # 若labels=1的在模型中的label也等于１\n",
    "            #     break\n",
    "        #print(\"tp\",tp)\n",
    "        #print(len(label))\n",
    "        if top_k < len(label):\n",
    "            fp = top_k-tp\n",
    "        else:\n",
    "            fp = len(label)-tp\n",
    "        #print(\"fp\",fp)\n",
    "        fn = count_1-tp\n",
    "        #print(\"fn\",fn)\n",
    "        count_0 = len(labels)-count_1\n",
    "        tn = count_0-fp\n",
    "        \n",
    "        if count_1!=0 : #排除label全为1或全为0的情况\n",
    "            count+=1\n",
    "            precision = float(tp/(tp+fp))\n",
    "            if tp >= count_1:\n",
    "                recall = 1.0\n",
    "            else:\n",
    "                recall = float(tp/(tp+fn))\n",
    "            accuracy = float((tp+tn)/(tp+fp+tn+fn))\n",
    "\n",
    "            precision_all += precision\n",
    "            recall_all += recall\n",
    "            accuracy_all += accuracy\n",
    "        if tp!= 0:\n",
    "            hit_count +=1\n",
    "        # if count_1 == 0:\n",
    "        #     len_query -= 1\n",
    "    print(\"hit_count\",hit_count)\n",
    "    print(\"len_query\",len_query)\n",
    "    for item in D_pair:\n",
    "        for score in item:\n",
    "            score_pair.extend(score)\n",
    "    # print(\"score_pair\",len(score_pair_))\n",
    "    # print(\"label_pair\",len(label_pair_))\n",
    "    print(f\"top_{top_k},recall_ave_m3e: {float(recall_all/count)}\")\n",
    "    print(f\"top_{top_k},precision_ave_m3e: {float(precision_all/count)}\")\n",
    "    mAP = average_precision_score(label_pair, score_pair, average='macro')\n",
    "    print(f\"top_{top_k},mAP_m3e:\", mAP)\n",
    "    #print(f\"accuracy_ave_m3e: {float(accuracy_all/count)}\")\n",
    "    print(f\"top_{top_k},hit_rate_ave_m3e:{float(hit_count/len_query)}\")\n",
    "    end_time = time.time()\n",
    "    elapsed_time = end_time - start_time\n",
    "    # print(\"text_list\",text_list)\n",
    "    print(f\"Time spent: {elapsed_time:.5f} seconds\")"
   ]
  },
  {
   "cell_type": "code",
   "execution_count": 11,
   "metadata": {},
   "outputs": [
    {
     "name": "stdout",
     "output_type": "stream",
     "text": [
      "precision 0.5521994453807261\n",
      "recall 0.5641452259315843\n",
      "thresholds 0.8423093608612023\n",
      "mAP_glm1: 0.5706055080211958\n"
     ]
    },
    {
     "data": {
      "image/png": "[encoded data removed]",
      "text/plain": [
       "<Figure size 640x480 with 1 Axes>"
      ]
     },
     "metadata": {},
     "output_type": "display_data"
    }
   ],
   "source": [
    "#baseline ->计算mAP\n",
    "\n",
    "import matplotlib.pyplot as plt\n",
    "from sklearn.metrics import average_precision_score,precision_recall_curve\n",
    "length = len(label_pair)\n",
    "# 计算不同阈值下的精确率和召回率\n",
    "precision, recall, thresholds = precision_recall_curve(label_pair, score_pair)\n",
    "print(\"precision\",sum(precision)/length)\n",
    "print(\"recall\",sum(recall)/length)\n",
    "print(\"thresholds\",sum(thresholds)/length)\n",
    "# 计算每个阈值下的平均精度均值\n",
    "# average_precision = average_precision_score(true_labels, predicted_probs)\n",
    "mAP = average_precision_score(label_pair, score_pair, average='macro')\n",
    "print(\"mAP_glm1:\", mAP)\n",
    "\n",
    "# 绘制曲线图\n",
    "plt.plot(recall, precision, color='b', label=f'mAP={mAP:.2f}')\n",
    "plt.xlabel('Recall')\n",
    "plt.ylabel('Precision')\n",
    "plt.title('m3e 1_mAP Curve')\n",
    "plt.legend(loc='upper right')\n",
    "plt.grid(True)\n",
    "plt.show()"
   ]
  },
  {
   "cell_type": "code",
   "execution_count": 12,
   "metadata": {},
   "outputs": [],
   "source": [
    "top_k = 6\n",
    "# text_list = []\n",
    "result_m3e = {}  # 创建空字典    \n",
    "for i,batch_data in enumerate(testing_dataloader):\n",
    "     query = batch_data[1][0]\n",
    "     query_feat = np.array([encoder.encode(query)])\n",
    "     # query_feat_ = model(query) # 得到model query embed\n",
    "     # query_feat_ = query_feat_.cpu()\n",
    "     # query_feat_ = np.array([query_feat_.detach()])\n",
    "     faiss.normalize_L2(query_feat)\n",
    "     D, I= index.search(query_feat, top_k) \n",
    "     text_list = []\n",
    "     for text in I[0]:\n",
    "          text_list.append(testing_text[text])\n",
    "     # print(text_list)\n",
    "          # content = testing_text[text]\n",
    "     result_m3e[i] = {\n",
    "          \"query\": query,\n",
    "          \"content\": text_list,\n",
    "          \"score\": D\n",
    "     }  \n",
    "     result_m3e[i]['score'] = result_m3e[i]['score'].tolist()\n",
    "# print(result_m3e)"
   ]
  },
  {
   "cell_type": "code",
   "execution_count": 13,
   "metadata": {},
   "outputs": [],
   "source": [
    "import json\n",
    "# result[0]['score'] = result[0]['score'].tolist()\n",
    "# print(result)\n",
    "# 将字典转换为 JSON 字符串\n",
    "json_data_ = json.dumps(result_m3e,ensure_ascii=False)\n",
    "\n",
    "# 将 JSON 字符串保存到本地文件\n",
    "file_path = \"result_m3e.json\"\n",
    "with open(file_path, \"w\", encoding=\"utf-8\") as file:\n",
    "    file.write(json_data_)"
   ]
  },
  {
   "cell_type": "code",
   "execution_count": 14,
   "metadata": {},
   "outputs": [
    {
     "name": "stdout",
     "output_type": "stream",
     "text": [
      "top_k 2\n",
      "hit_count 63\n",
      "len_query 69\n",
      "top_2,recall_ave_model: 0.11507673462418518\n",
      "top_2,precision_ave_model: 0.8688524590163934\n",
      "top_2,mAP_model: 0.888255296703662\n",
      "top_2,hit_rate_ave_model:0.9130434782608695\n",
      "Time spent: 5.42974 seconds\n",
      "top_k 4\n",
      "hit_count 64\n",
      "len_query 69\n",
      "top_4,recall_ave_model: 0.19384490114775882\n",
      "top_4,precision_ave_model: 0.7991803278688525\n",
      "top_4,mAP_model: 0.8604714641770211\n",
      "top_4,hit_rate_ave_model:0.927536231884058\n",
      "Time spent: 5.41563 seconds\n",
      "top_k 6\n",
      "hit_count 66\n",
      "len_query 69\n",
      "top_6,recall_ave_model: 0.2688954306783428\n",
      "top_6,precision_ave_model: 0.7677595628415301\n",
      "top_6,mAP_model: 0.8322251879103599\n",
      "top_6,hit_rate_ave_model:0.9565217391304348\n",
      "Time spent: 5.58595 seconds\n",
      "top_k 8\n",
      "hit_count 67\n",
      "len_query 69\n",
      "top_8,recall_ave_model: 0.3278533615525358\n",
      "top_8,precision_ave_model: 0.7295081967213115\n",
      "top_8,mAP_model: 0.8027406498790406\n",
      "top_8,hit_rate_ave_model:0.9710144927536232\n",
      "Time spent: 5.49586 seconds\n",
      "top_k 10\n",
      "hit_count 67\n",
      "len_query 69\n",
      "top_10,recall_ave_model: 0.39049315047155553\n",
      "top_10,precision_ave_model: 0.7196721311475411\n",
      "top_10,mAP_model: 0.7943262784883631\n",
      "top_10,hit_rate_ave_model:0.9710144927536232\n",
      "Time spent: 5.59350 seconds\n",
      "top_k 20\n",
      "hit_count 68\n",
      "len_query 69\n",
      "top_20,recall_ave_model: 0.5821645100157519\n",
      "top_20,precision_ave_model: 0.614666850346696\n",
      "top_20,mAP_model: 0.7162931809197313\n",
      "top_20,hit_rate_ave_model:0.9855072463768116\n",
      "Time spent: 5.50703 seconds\n",
      "top_k 30\n",
      "hit_count 69\n",
      "len_query 69\n",
      "top_30,recall_ave_model: 0.6837527722342949\n",
      "top_30,precision_ave_model: 0.5719276358953145\n",
      "top_30,mAP_model: 0.6655227898660769\n",
      "top_30,hit_rate_ave_model:1.0\n",
      "Time spent: 5.31894 seconds\n"
     ]
    }
   ],
   "source": [
    "#model -> 计算准确率，召回率、精度\n",
    "k = [2,4,6,8,10,20,30]\n",
    "for top_k in k:\n",
    "    print(\"top_k\",top_k)\n",
    "    count= 0\n",
    "    precision_all, recall_all, accuracy_all = 0, 0, 0\n",
    "    start_time = time.time()\n",
    "    label_pair_ = []\n",
    "    D_pair_ = []\n",
    "    score_pair_ = []\n",
    "    text_list = []\n",
    "    query_list = []\n",
    "    len_query = len(testing_dataloader)\n",
    "    hit_count = 0\n",
    "    for batch_data in testing_dataloader:\n",
    "        count_1 = 0\n",
    "        tp, fp, fn, tn = 0, 0, 0, 0\n",
    "        query = batch_data[1][0]\n",
    "        # print(\"query\",query)\n",
    "        # query_list.append(query)\n",
    "        data, label = batch_data[2:]\n",
    "        # print(len(data))\n",
    "        # query_feat = np.array([encoder.encode(query)]) # 得到baseline query embed\n",
    "        query_feat_ = model(query) # 得到model query embed\n",
    "        query_feat_ = query_feat_.cpu()\n",
    "        query_feat_ = np.array([query_feat_.detach()])\n",
    "        faiss.normalize_L2(query_feat_)\n",
    "        D_, I_ = index_.search(query_feat_, top_k) #提取出ours的topk\n",
    "        #print('scores_, indices_',D_, I_[0])\n",
    "        D_pair_.append(D_)\n",
    "        for value in label:\n",
    "            if value == 1:\n",
    "                count_1 += 1 #这个q对应的回答中所有label为1的个数\n",
    "        #print(\"count_1\",count_1)\n",
    "        for i in I_[0]:\n",
    "            #print(\"labels[i]\",labels[i])\n",
    "            label_pair_.append(labels[i])\n",
    "        # count_0 = len(label[0])\n",
    "        for i in I_[0]:\n",
    "            if labels[i] == 1:\n",
    "                tp = tp+1\n",
    "\n",
    "        if top_k < len(label):\n",
    "            fp = top_k-tp\n",
    "        else:\n",
    "            fp = len(label)-tp\n",
    "        #print(\"fp\",fp)\n",
    "        fn = count_1-tp\n",
    "        #print(\"fn\",fn)\n",
    "        count_0 = len(labels)-count_1\n",
    "        tn = count_0-fp\n",
    "        if count_1!=0 : #排除label全为1或全为0的情况\n",
    "            count+=1\n",
    "            precision = float(tp/(tp+fp))\n",
    "            accuracy = float((tp+tn)/(tp+fp+tn+fn))\n",
    "            if tp >= count_1:\n",
    "                recall = 1.0\n",
    "            else:\n",
    "                recall = float(tp/(tp+fn))\n",
    "            # print(\"recall\",recall)\n",
    "            precision_all += precision\n",
    "            recall_all += recall\n",
    "            accuracy_all += accuracy\n",
    "        if tp!= 0:\n",
    "            hit_count +=1\n",
    "        # if count_1 == 0:\n",
    "        #     len_query -= 1\n",
    "    print(\"hit_count\",hit_count)\n",
    "    print(\"len_query\",len_query)\n",
    "    for item in D_pair_:\n",
    "        for score in item:\n",
    "            score_pair_.extend(score)\n",
    "    # print(\"score_pair\",len(score_pair_))\n",
    "    # print(\"label_pair\",len(label_pair_))\n",
    "    print(f\"top_{top_k},recall_ave_model: {float(recall_all/count)}\")\n",
    "    print(f\"top_{top_k},precision_ave_model: {float(precision_all/count)}\")\n",
    "    mAP = average_precision_score(label_pair_, score_pair_, average='macro')\n",
    "    print(f\"top_{top_k},mAP_model:\", mAP)\n",
    "    #print(f\"accuracy_ave_m3e: {float(accuracy_all/count)}\")\n",
    "    print(f\"top_{top_k},hit_rate_ave_model:{float(hit_count/len_query)}\")\n",
    "    end_time = time.time()\n",
    "    elapsed_time = end_time - start_time\n",
    "    # print(\"text_list\",text_list)\n",
    "    print(f\"Time spent: {elapsed_time:.5f} seconds\")"
   ]
  },
  {
   "cell_type": "code",
   "execution_count": 15,
   "metadata": {},
   "outputs": [
    {
     "name": "stdout",
     "output_type": "stream",
     "text": [
      "p [0.89475274 0.8846623  0.8818468  ... 0.85639095 0.85586524 0.85569996]\n",
      "q [0.76717365 0.741063   0.72328603 ... 0.49702394 0.49476162 0.49446967]\n",
      "KL散度: 1106.9425\n"
     ]
    }
   ],
   "source": [
    "import numpy as np\n",
    "\n",
    "def compute_kl_divergence(p, q):\n",
    "    kl_divergence = np.sum(p * np.log(p / q))\n",
    "    return kl_divergence\n",
    "\n",
    "# 示例：计算两个离散概率分布的KL散度\n",
    "p = np.array(score_pair)\n",
    "q = np.array(score_pair_)\n",
    "print(\"p\",p)\n",
    "print(\"q\",q)\n",
    "kl_divergence = compute_kl_divergence(p, q)\n",
    "print(\"KL散度:\", kl_divergence)"
   ]
  },
  {
   "cell_type": "code",
   "execution_count": 16,
   "metadata": {},
   "outputs": [
    {
     "name": "stdout",
     "output_type": "stream",
     "text": [
      "precision 0.6444747406587958\n",
      "recall 0.5729821971730152\n",
      "thresholds 0.4570740347611155\n",
      "mAP_glm1: 0.6655227898660769\n"
     ]
    },
    {
     "data": {
      "image/png": "[encoded data removed]",
      "text/plain": [
       "<Figure size 640x480 with 1 Axes>"
      ]
     },
     "metadata": {},
     "output_type": "display_data"
    }
   ],
   "source": [
    "#model ->计算mAP\n",
    "import matplotlib.pyplot as plt\n",
    "from sklearn.metrics import average_precision_score,precision_recall_curve\n",
    "length = len(label_pair_)\n",
    "# 计算不同阈值下的精确率和召回率\n",
    "precision, recall, thresholds = precision_recall_curve(label_pair_, score_pair_)\n",
    "print(\"precision\",sum(precision)/length)\n",
    "print(\"recall\",sum(recall)/length)\n",
    "print(\"thresholds\",sum(thresholds)/length)\n",
    "# 计算每个阈值下的平均精度均值\n",
    "# average_precision = average_precision_score(true_labels, predicted_probs)\n",
    "mAP = average_precision_score(label_pair_, score_pair_, average='macro')\n",
    "print(\"mAP_glm1:\", mAP)\n",
    "\n",
    "# 绘制曲线图\n",
    "plt.plot(recall, precision, color='b', label=f'mAP={mAP:.2f}')\n",
    "plt.xlabel('Recall')\n",
    "plt.ylabel('Precision')\n",
    "plt.title('ChatGLM 1_mAP Curve')\n",
    "plt.legend(loc='upper right')\n",
    "plt.grid(True)\n",
    "plt.show()"
   ]
  },
  {
   "cell_type": "code",
   "execution_count": 17,
   "metadata": {},
   "outputs": [],
   "source": [
    "#存储检索结果\n",
    "top_k = 6\n",
    "# text_list = []\n",
    "result = {}  # 创建空字典    \n",
    "for i,batch_data in enumerate(testing_dataloader):\n",
    "     query = batch_data[1][0]\n",
    "     query_feat_ = model(query) # 得到model query embed\n",
    "     query_feat_ = query_feat_.cpu()\n",
    "     query_feat_ = np.array([query_feat_.detach()])\n",
    "     faiss.normalize_L2(query_feat_)\n",
    "     D_, I_ = index_.search(query_feat_, top_k) \n",
    "     text_list = []\n",
    "     for text in I_[0]:\n",
    "          text_list.append(testing_text[text])\n",
    "     # print(text_list)\n",
    "          # content = testing_text[text]\n",
    "     result[i] = {\n",
    "          \"query\": query,\n",
    "          \"content\": text_list,\n",
    "          \"score\": D_\n",
    "     }  \n",
    "     result[i]['score'] = result[i]['score'].tolist()\n",
    "# print(result)\n",
    "     "
   ]
  },
  {
   "cell_type": "code",
   "execution_count": 18,
   "metadata": {},
   "outputs": [],
   "source": [
    "import json\n",
    "# 将字典转换为 JSON 字符串\n",
    "json_data = json.dumps(result,ensure_ascii=False)\n",
    "# 将 JSON 字符串保存到本地文件\n",
    "file_path = \"result.json\"\n",
    "with open(file_path, \"w\", encoding=\"utf-8\") as file:\n",
    "    file.write(json_data)"
   ]
  },
  {
   "cell_type": "code",
   "execution_count": 19,
   "metadata": {},
   "outputs": [
    {
     "name": "stdout",
     "output_type": "stream",
     "text": [
      "乳酶生片 - 消化科用药 儿童禁忌 遵医嘱。\n",
      "乳酶生片 - 消化科用药 孕妇禁忌 遵医嘱。\n",
      "乳酶生片 - 消化科用药 老年人禁忌 遵医嘱。\n",
      "乳酶生片 - 消化科用药 禁忌症 尚不明确。\n",
      "乳酶生片 - 消化科用药 适应症 用于消化不良、腹胀及小儿饮食失调所引起的腹泻、绿便等。\n",
      "乳酶生 - 助消化药 适应症 用于消化不良、腹胀及小儿饮食失调所引起的腹泻、绿便等。\n",
      "乳酸菌素片 - 消化科用药 禁忌症 尚不明确。\n",
      "养胃颗粒 - 消化科用药 用法用量 开水冲服。一次１袋，一日3次。\n",
      "乳酸菌素片 - 消化科用药 适应症 用于肠内异常发酵、消化不良、肠炎和小儿腹泻。\n",
      "胃灵颗粒 - 消化科用药 用法用量 开水冲服。一次5克，一日3次。\n",
      "Time spent: 0.02 seconds\n"
     ]
    }
   ],
   "source": [
    "#单个查询\n",
    "\n",
    "query = \"消化不良能吃乳酶生片吗？\"\n",
    "#乳酶生片\n",
    "top_k = 10\n",
    "start_time = time.time()\n",
    "query_feat = np.array([encoder.encode(query)])   \n",
    "faiss.normalize_L2(query_feat)\n",
    "D, I = index.search(query_feat, top_k) \n",
    "text_list = []\n",
    "for text in I[0]:\n",
    "    # text_list.append(testing_text[text])\n",
    "    print(testing_text[text])\n",
    "#print(D)\n",
    "end_time = time.time()\n",
    "elapsed_time = end_time - start_time\n",
    "print(f\"Time spent: {elapsed_time:.2f} seconds\")"
   ]
  },
  {
   "cell_type": "code",
   "execution_count": 20,
   "metadata": {},
   "outputs": [
    {
     "name": "stdout",
     "output_type": "stream",
     "text": [
      "乳酶生片 - 消化科用药 儿童禁忌 遵医嘱。\n",
      "乳酶生片 - 消化科用药 孕妇禁忌 遵医嘱。\n",
      "乳酶生片 - 消化科用药 老年人禁忌 遵医嘱。\n",
      "乳酶生片 - 消化科用药 禁忌症 尚不明确。\n",
      "胃痛宁片 - 消化科用药 孕妇禁忌 孕妇、哺乳期妇女禁用。\n",
      "奥美拉唑 - 消化科用药 儿童禁忌 婴幼儿禁用。\n",
      "胃痛宁片 - 消化科用药 儿童禁忌 儿童禁用。\n",
      "乳果糖口服溶液 丹康 消化科用药 孕妇禁忌 妊娠期头3个月慎用。\n",
      "奥美拉唑镁肠溶片 洛赛克MUPS 消化科用药 孕妇禁忌 孕期、哺乳期妇女慎用。\n",
      "乳酸菌素 - 助消化药 适应症 暂无数据\n",
      "Time spent: 0.02 seconds\n"
     ]
    }
   ],
   "source": [
    "#单个查询蒲地蓝消炎片|蒲地蓝消炎口服液\n",
    "# query = \"急性肠胃炎吃什么药？\"\n",
    "# top_k = 2\n",
    "start_time = time.time()\n",
    "query_ = model(query) # 得到model query embed\n",
    "query_= query_.cpu()\n",
    "query_ = np.array([query_.detach()])\n",
    "faiss.normalize_L2(query_)\n",
    "D_, I_ = index_.search(query_, top_k) \n",
    "text_list = []\n",
    "for text in I_[0]:\n",
    "    # text_list.append(testing_text[text])\n",
    "    print(testing_text[text])\n",
    "# print(D_)\n",
    "end_time = time.time()\n",
    "elapsed_time = end_time - start_time\n",
    "\n",
    "print(f\"Time spent: {elapsed_time:.2f} seconds\")"
   ]
  }
 ],
 "metadata": {
  "kernelspec": {
   "display_name": "kb_chat",
   "language": "python",
   "name": "python3"
  },
  "language_info": {
   "codemirror_mode": {
    "name": "ipython",
    "version": 3
   },
   "file_extension": ".py",
   "mimetype": "text/x-python",
   "name": "python",
   "nbconvert_exporter": "python",
   "pygments_lexer": "ipython3",
   "version": "3.9.17 (main, Jul  5 2023, 20:41:20) \n[GCC 11.2.0]"
  },
  "orig_nbformat": 4,
  "vscode": {
   "interpreter": {
    "hash": "03693e1d2aee19d2193851f4e3413a836ae353f69f44b82f7edfb9d4e604f925"
   }
  }
 },
 "nbformat": 4,
 "nbformat_minor": 2
}
