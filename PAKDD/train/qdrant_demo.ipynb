{
 "cells": [
  {
   "cell_type": "code",
   "execution_count": 2,
   "id": "49236eef",
   "metadata": {},
   "outputs": [],
   "source": [
    "import pandas as pd\n",
    "import json\n",
    "\n",
    "# 读取JSON文件\n",
    "### !!!这里需要改数据加载地址\n",
    "with open('/mnt/workspace/pangtianqi/medical_kb_chatbot/data/new_sample_drugs_0811.json', 'r', encoding='utf-8') as file:\n",
    "    med_details = json.load(file)"
   ]
  },
  {
   "cell_type": "code",
   "execution_count": 3,
   "id": "9c5c6a1e",
   "metadata": {},
   "outputs": [
    {
     "name": "stderr",
     "output_type": "stream",
     "text": [
      "/home/pai/envs/kb_chat/lib/python3.9/site-packages/tqdm/auto.py:21: TqdmWarning: IProgress not found. Please update jupyter and ipywidgets. See https://ipywidgets.readthedocs.io/en/stable/user_install.html\n",
      "  from .autonotebook import tqdm as notebook_tqdm\n"
     ]
    },
    {
     "name": "stdout",
     "output_type": "stream",
     "text": [
      "[2023-09-13 09:02:28,258] [INFO] [real_accelerator.py:158:get_accelerator] Setting ds_accelerator to cuda (auto detect)\n",
      "Embedding size: 768\n"
     ]
    }
   ],
   "source": [
    "from sentence_transformers import SentenceTransformer\n",
    "\n",
    "# 加载模型到特定的CUDA设备\n",
    "### !!!这里需要改模型地址\n",
    "encoder = SentenceTransformer('/mnt/workspace/pangtianqi/medical_kb_chatbot/moka-ai/m3e-base', device='cuda:0')\n",
    "embedding_size = encoder.get_sentence_embedding_dimension()\n",
    "\n",
    "print(f\"Embedding size: {embedding_size}\")\n"
   ]
  },
  {
   "cell_type": "code",
   "execution_count": 4,
   "id": "756f979f",
   "metadata": {},
   "outputs": [],
   "source": [
    "## 标签 label，药品库 QA库等\n",
    "## 大类 category\n",
    "## 二级分类 sub_category\n",
    "## 属性 attribute\n",
    "## 展示来源 title "
   ]
  },
  {
   "cell_type": "code",
   "execution_count": 5,
   "id": "83c800f6",
   "metadata": {},
   "outputs": [],
   "source": [
    "# 写入向量数据库\n",
    "from qdrant_client import QdrantClient\n",
    "from qdrant_client.http import models\n",
    "from qdrant_client.http.models import CollectionStatus\n",
    "client = QdrantClient(host=\"121.5.254.174\", port=49344, timeout=50000)\n",
    "\n",
    "my_collection = \"drug_test\"\n",
    "\n",
    "first_collection = client.recreate_collection(\n",
    "    collection_name=my_collection,\n",
    "    vectors_config=models.VectorParams(size=embedding_size, distance=models.Distance.COSINE)\n",
    ")"
   ]
  },
  {
   "cell_type": "code",
   "execution_count": 6,
   "id": "59fb0ac7",
   "metadata": {},
   "outputs": [
    {
     "name": "stdout",
     "output_type": "stream",
     "text": [
      "Time spent: 0.02571 seconds\n"
     ]
    }
   ],
   "source": [
    "# 药\n",
    "import time\n",
    "start_time = time.time()\n",
    "drug_points = []\n",
    "tmp_drug_points_dict = {}\n",
    "tmp_drug_points_dict['ids'],tmp_drug_points_dict['text'],tmp_drug_points_dict['payload']=[],[],[]\n",
    "j=0\n",
    "# 药物\n",
    "for drug_item in med_details:\n",
    "    common_name = drug_item['通用名称']\n",
    "    comd_name = drug_item['商品名称']\n",
    "    choose_cols = ['通用名称','商品名称','适应症', '禁忌症', '注意事项', '药物相互作用', '主要成分','用法用量','儿童禁忌', '孕妇禁忌', '老年人禁忌']\n",
    "    emb_cols = ['适应症', '禁忌症', '注意事项', '药物相互作用', '主要成分','用法用量','儿童禁忌', '孕妇禁忌', '老年人禁忌']\n",
    "    for col in emb_cols:\n",
    "        if col not in drug_item or common_name is None or drug_item[col] is None or drug_item[col]=='' or drug_item[col] =='-':\n",
    "            continue\n",
    "        text = common_name+' '+comd_name+' '+col+' '+drug_item[col] if comd_name is not None or comd_name != '-' else common_name+' '+col+' '+drug_item[col]\n",
    "        \n",
    "        meta_data = {key: drug_item[key] for key in choose_cols if drug_item[key] not in [None, \"-\",\"\"]}\n",
    "        selected_data = {}\n",
    "        selected_data['meta_data'] = meta_data\n",
    "        selected_data['embed_text'] = text\n",
    "        selected_data['label'] = '药品库'\n",
    "        selected_data['category'] = drug_item['药品分类']\n",
    "        selected_data['title'] = common_name\n",
    "        selected_data['attribute'] = col\n",
    "        tmp_drug_points_dict['ids'].append(j)\n",
    "        tmp_drug_points_dict['text'].append(text)\n",
    "        tmp_drug_points_dict['payload'].append(selected_data)\n",
    "        j+=1\n",
    "        \n",
    "end_time = time.time()\n",
    "elapsed_time = end_time - start_time\n",
    "\n",
    "print(f\"Time spent: {elapsed_time:.5f} seconds\")\n",
    "#print(\"tmp_drug_points_dict\",tmp_drug_points_dict['payload'])"
   ]
  },
  {
   "cell_type": "code",
   "execution_count": 13,
   "id": "1d1bab9a",
   "metadata": {},
   "outputs": [],
   "source": [
    "# from chatglm1 import *\n",
    "# from chatglm2 import *\n",
    "# #加载模型\n",
    "# # config = ChatGLMConfig()\n",
    "# # model = MyMLP(config)\n",
    "# model =  MyGLU(hidden_size = 768)\n",
    "# device = model.device\n",
    "# model.load_state_dict(torch.load(\"model/best_chatglm1.ph\"))\n",
    "# #model.load_state_dict(torch.load(\"model/best_chatglm1.ph\"))\n",
    "# model = model.to(device)\n",
    "# # print(model)\n",
    "# # encoder = model.embed_model\n",
    "# dim =768"
   ]
  },
  {
   "cell_type": "code",
   "execution_count": 8,
   "id": "6c6fd9f8",
   "metadata": {},
   "outputs": [
    {
     "data": {
      "text/html": [
       "<pre style=\"white-space:pre;overflow-x:auto;line-height:normal;font-family:Menlo,'DejaVu Sans Mono',consolas,'Courier New',monospace\"><span style=\"color: #800000; text-decoration-color: #800000\">╭─────────────────────────────── </span><span style=\"color: #800000; text-decoration-color: #800000; font-weight: bold\">Traceback </span><span style=\"color: #bf7f7f; text-decoration-color: #bf7f7f; font-weight: bold\">(most recent call last)</span><span style=\"color: #800000; text-decoration-color: #800000\"> ────────────────────────────────╮</span>\n",
       "<span style=\"color: #800000; text-decoration-color: #800000\">│</span> <span style=\"color: #bfbf7f; text-decoration-color: #bfbf7f\">/tmp/ipykernel_243471/</span><span style=\"color: #808000; text-decoration-color: #808000; font-weight: bold\">3730063359.py</span>:<span style=\"color: #0000ff; text-decoration-color: #0000ff\">17</span> in <span style=\"color: #00ff00; text-decoration-color: #00ff00\">&lt;module&gt;</span>                                               <span style=\"color: #800000; text-decoration-color: #800000\">│</span>\n",
       "<span style=\"color: #800000; text-decoration-color: #800000\">│</span>                                                                                                  <span style=\"color: #800000; text-decoration-color: #800000\">│</span>\n",
       "<span style=\"color: #800000; text-decoration-color: #800000\">│</span> <span style=\"color: #800000; text-decoration-color: #800000; font-style: italic\">[Errno 2] No such file or directory: '/tmp/ipykernel_243471/3730063359.py'</span>                       <span style=\"color: #800000; text-decoration-color: #800000\">│</span>\n",
       "<span style=\"color: #800000; text-decoration-color: #800000\">╰──────────────────────────────────────────────────────────────────────────────────────────────────╯</span>\n",
       "<span style=\"color: #ff0000; text-decoration-color: #ff0000; font-weight: bold\">NameError: </span>name <span style=\"color: #008000; text-decoration-color: #008000\">'model'</span> is not defined\n",
       "</pre>\n"
      ],
      "text/plain": [
       "\u001b[31m╭─\u001b[0m\u001b[31m──────────────────────────────\u001b[0m\u001b[31m \u001b[0m\u001b[1;31mTraceback \u001b[0m\u001b[1;2;31m(most recent call last)\u001b[0m\u001b[31m \u001b[0m\u001b[31m───────────────────────────────\u001b[0m\u001b[31m─╮\u001b[0m\n",
       "\u001b[31m│\u001b[0m \u001b[2;33m/tmp/ipykernel_243471/\u001b[0m\u001b[1;33m3730063359.py\u001b[0m:\u001b[94m17\u001b[0m in \u001b[92m<module>\u001b[0m                                               \u001b[31m│\u001b[0m\n",
       "\u001b[31m│\u001b[0m                                                                                                  \u001b[31m│\u001b[0m\n",
       "\u001b[31m│\u001b[0m \u001b[3;31m[Errno 2] No such file or directory: '/tmp/ipykernel_243471/3730063359.py'\u001b[0m                       \u001b[31m│\u001b[0m\n",
       "\u001b[31m╰──────────────────────────────────────────────────────────────────────────────────────────────────╯\u001b[0m\n",
       "\u001b[1;91mNameError: \u001b[0mname \u001b[32m'model'\u001b[0m is not defined\n"
      ]
     },
     "metadata": {},
     "output_type": "display_data"
    }
   ],
   "source": [
    "# 分批embedding与插入\n",
    "import time\n",
    "start_time = time.time()\n",
    "batch_size = 500\n",
    "ids = tmp_drug_points_dict['ids']\n",
    "payloads = tmp_drug_points_dict['payload']\n",
    "text = tmp_drug_points_dict['text']\n",
    "\n",
    "\n",
    "for i in range(0, len(ids), batch_size):\n",
    "    \n",
    "    batch_ids = ids[i:i + batch_size]\n",
    "    batch_payloads = payloads[i:i + batch_size]\n",
    "    batch_text = text[i:i + batch_size]\n",
    "    embed_start_time = time.time()\n",
    "    # 数据嵌入\n",
    "    batch_vectors = model(batch_text).tolist()\n",
    "    embed_end_time = time.time()\n",
    "    # print(f\"{i} Embedding Time spent: {embed_end_time - embed_start_time:.5f} seconds\")\n",
    "    qrant_start_time = time.time()\n",
    "    # 数据插入\n",
    "    client.upsert(\n",
    "        collection_name=my_collection,\n",
    "        points=models.Batch(\n",
    "            ids=batch_ids,\n",
    "            payloads=batch_payloads,\n",
    "            vectors=batch_vectors\n",
    "        ),\n",
    "    )\n",
    "    qrant_end_time = time.time()\n",
    "    # print(f\"{i} qrant insert Time spent: {qrant_end_time - qrant_start_time:.5f} seconds\")\n",
    "end_time = time.time()\n",
    "elapsed_time = end_time - start_time\n",
    "\n",
    "print(f\"Time spent: {elapsed_time:.5f} seconds\")"
   ]
  },
  {
   "cell_type": "code",
   "execution_count": 9,
   "id": "03d5695a",
   "metadata": {},
   "outputs": [
    {
     "name": "stdout",
     "output_type": "stream",
     "text": [
      "Time spent: 28.71628 seconds\n"
     ]
    }
   ],
   "source": [
    "# 分批embedding与插入\n",
    "import time\n",
    "start_time = time.time()\n",
    "batch_size = 500\n",
    "ids = tmp_drug_points_dict['ids']\n",
    "payloads = tmp_drug_points_dict['payload']\n",
    "text = tmp_drug_points_dict['text']\n",
    "\n",
    "\n",
    "for i in range(0, len(ids), batch_size):\n",
    "    \n",
    "    batch_ids = ids[i:i + batch_size]\n",
    "    batch_payloads = payloads[i:i + batch_size]\n",
    "    batch_text = text[i:i + batch_size]\n",
    "    embed_start_time = time.time()\n",
    "    # 数据嵌入\n",
    "    batch_vectors = encoder.encode(batch_text).tolist()\n",
    "    embed_end_time = time.time()\n",
    "    # print(f\"{i} Embedding Time spent: {embed_end_time - embed_start_time:.5f} seconds\")\n",
    "    qrant_start_time = time.time()\n",
    "    # 数据插入\n",
    "    client.upsert(\n",
    "        collection_name=my_collection,\n",
    "        points=models.Batch(\n",
    "            ids=batch_ids,\n",
    "            payloads=batch_payloads,\n",
    "            vectors=batch_vectors\n",
    "        ),\n",
    "    )\n",
    "    qrant_end_time = time.time()\n",
    "    # print(f\"{i} qrant insert Time spent: {qrant_end_time - qrant_start_time:.5f} seconds\")\n",
    "end_time = time.time()\n",
    "elapsed_time = end_time - start_time\n",
    "\n",
    "print(f\"Time spent: {elapsed_time:.5f} seconds\")"
   ]
  },
  {
   "cell_type": "code",
   "execution_count": 10,
   "id": "477103ea",
   "metadata": {},
   "outputs": [
    {
     "data": {
      "text/plain": [
       "[('status', <CollectionStatus.GREEN: 'green'>),\n",
       " ('optimizer_status', <OptimizersStatusOneOf.OK: 'ok'>),\n",
       " ('vectors_count', 6182),\n",
       " ('indexed_vectors_count', 0),\n",
       " ('points_count', 6182),\n",
       " ('segments_count', 8),\n",
       " ('config',\n",
       "  CollectionConfig(params=CollectionParams(vectors=VectorParams(size=768, distance=<Distance.COSINE: 'Cosine'>, hnsw_config=None, quantization_config=None, on_disk=None), shard_number=1, replication_factor=1, write_consistency_factor=1, on_disk_payload=True), hnsw_config=HnswConfig(m=16, ef_construct=100, full_scan_threshold=10000, max_indexing_threads=0, on_disk=False, payload_m=None), optimizer_config=OptimizersConfig(deleted_threshold=0.2, vacuum_min_vector_number=1000, default_segment_number=0, max_segment_size=None, memmap_threshold=None, indexing_threshold=20000, flush_interval_sec=5, max_optimization_threads=1), wal_config=WalConfig(wal_capacity_mb=32, wal_segments_ahead=0), quantization_config=None)),\n",
       " ('payload_schema', {})]"
      ]
     },
     "execution_count": 10,
     "metadata": {},
     "output_type": "execute_result"
    }
   ],
   "source": [
    "collection_info = client.get_collection(collection_name=my_collection)\n",
    "list(collection_info)"
   ]
  },
  {
   "cell_type": "markdown",
   "id": "9bd74c11",
   "metadata": {},
   "source": [
    "## 查询"
   ]
  },
  {
   "cell_type": "code",
   "execution_count": 11,
   "id": "d3e3b6d2",
   "metadata": {
    "scrolled": false
   },
   "outputs": [
    {
     "data": {
      "text/html": [
       "<pre style=\"white-space:pre;overflow-x:auto;line-height:normal;font-family:Menlo,'DejaVu Sans Mono',consolas,'Courier New',monospace\"><span style=\"color: #800000; text-decoration-color: #800000\">╭─────────────────────────────── </span><span style=\"color: #800000; text-decoration-color: #800000; font-weight: bold\">Traceback </span><span style=\"color: #bf7f7f; text-decoration-color: #bf7f7f; font-weight: bold\">(most recent call last)</span><span style=\"color: #800000; text-decoration-color: #800000\"> ────────────────────────────────╮</span>\n",
       "<span style=\"color: #800000; text-decoration-color: #800000\">│</span> <span style=\"color: #bfbf7f; text-decoration-color: #bfbf7f\">/tmp/ipykernel_243471/</span><span style=\"color: #808000; text-decoration-color: #808000; font-weight: bold\">3384377626.py</span>:<span style=\"color: #0000ff; text-decoration-color: #0000ff\">4</span> in <span style=\"color: #00ff00; text-decoration-color: #00ff00\">&lt;module&gt;</span>                                                <span style=\"color: #800000; text-decoration-color: #800000\">│</span>\n",
       "<span style=\"color: #800000; text-decoration-color: #800000\">│</span>                                                                                                  <span style=\"color: #800000; text-decoration-color: #800000\">│</span>\n",
       "<span style=\"color: #800000; text-decoration-color: #800000\">│</span> <span style=\"color: #800000; text-decoration-color: #800000; font-style: italic\">[Errno 2] No such file or directory: '/tmp/ipykernel_243471/3384377626.py'</span>                       <span style=\"color: #800000; text-decoration-color: #800000\">│</span>\n",
       "<span style=\"color: #800000; text-decoration-color: #800000\">╰──────────────────────────────────────────────────────────────────────────────────────────────────╯</span>\n",
       "<span style=\"color: #ff0000; text-decoration-color: #ff0000; font-weight: bold\">NameError: </span>name <span style=\"color: #008000; text-decoration-color: #008000\">'model'</span> is not defined\n",
       "</pre>\n"
      ],
      "text/plain": [
       "\u001b[31m╭─\u001b[0m\u001b[31m──────────────────────────────\u001b[0m\u001b[31m \u001b[0m\u001b[1;31mTraceback \u001b[0m\u001b[1;2;31m(most recent call last)\u001b[0m\u001b[31m \u001b[0m\u001b[31m───────────────────────────────\u001b[0m\u001b[31m─╮\u001b[0m\n",
       "\u001b[31m│\u001b[0m \u001b[2;33m/tmp/ipykernel_243471/\u001b[0m\u001b[1;33m3384377626.py\u001b[0m:\u001b[94m4\u001b[0m in \u001b[92m<module>\u001b[0m                                                \u001b[31m│\u001b[0m\n",
       "\u001b[31m│\u001b[0m                                                                                                  \u001b[31m│\u001b[0m\n",
       "\u001b[31m│\u001b[0m \u001b[3;31m[Errno 2] No such file or directory: '/tmp/ipykernel_243471/3384377626.py'\u001b[0m                       \u001b[31m│\u001b[0m\n",
       "\u001b[31m╰──────────────────────────────────────────────────────────────────────────────────────────────────╯\u001b[0m\n",
       "\u001b[1;91mNameError: \u001b[0mname \u001b[32m'model'\u001b[0m is not defined\n"
      ]
     },
     "metadata": {},
     "output_type": "display_data"
    }
   ],
   "source": [
    "import time\n",
    "start_time = time.time()\n",
    "query = '我儿子最近经常咳嗽，喉咙里有痰，吃什么药好点？'\n",
    "query_embed = model([query])[0].tolist()\n",
    "res = client.search(\n",
    "    collection_name=my_collection,\n",
    "    query_vector=query_embed,\n",
    "    limit=4\n",
    ")\n",
    "# print(\"res\",res)\n",
    "end_time = time.time()\n",
    "elapsed_time = end_time - start_time\n",
    "\n",
    "print(f\"Time spent: {elapsed_time:.2f} seconds\")\n",
    "\n",
    "res"
   ]
  },
  {
   "cell_type": "code",
   "execution_count": 12,
   "id": "3acddf1c",
   "metadata": {},
   "outputs": [
    {
     "name": "stdout",
     "output_type": "stream",
     "text": [
      "Time spent: 0.13 seconds\n"
     ]
    },
    {
     "data": {
      "text/plain": [
       "[ScoredPoint(id=5290, version=10, score=0.8630241, payload={'attribute': '适应症', 'category': '化学药品', 'embed_text': '盐酸米那普仑片 - 适应症 适用于抑郁症患者。', 'label': '药品库', 'meta_data': {'主要成分': '本品主要成份为盐酸米那普仑，其化学名称：为（±)-顺式-2-(氨甲基)-N，N-二乙基-1-苯基环丙烷基甲酰胺盐酸盐。化学结构式：分子式：C15H22N2O·HCl分子量：282.81', '适应症': '适用于抑郁症患者。', '通用名称': '盐酸米那普仑片'}, 'title': '盐酸米那普仑片'}, vector=None),\n",
       " ScoredPoint(id=530, version=1, score=0.84938085, payload={'attribute': '适应症', 'category': '化学药品', 'embed_text': '氢溴酸西酞普兰 - 适应症 各种类型的抑郁症。', 'label': '药品库', 'meta_data': {'注意事项': '1.与单胺氧化酶抑制剂(MAOI’s)的相互作用：在同时使用5-羟色胺再摄取抑制剂(SSRI)和单胺氧化酶抑制剂(MAOI’s)的患者，曾报道发生严重或致命的反应，如体温过高、僵直、肌阵脔、重要生命体征的自主不稳定快速波动，包括精神极度兴奋所致的精神狂乱谵语或昏迷等意识改变;在近期停止使用SSRI并开始使用MAOI’s的患者也有发生上述反应的同样报道;有些病例表现出类似精神抑制药所引起的恶性综合症;此外，有限的动物试验资料显示联合使用SSRI和MAOI’s，两者的协同作用会升高血压，并且引起行为激动;所以建议SSRI和MAOI’s不可联合使用，或者停止服用其中任何一种药物至少14天后才可以服用另外一种药物;\\n2.告诫：因本品解除抑制的作用可先于抗抑郁作用，所以，病人在出现明显抑郁缓解之前仍可能持续存在自杀的可能性;如病人进入躁狂期，应停用本品，并给予精神抑制药作适当治疗;\\n3.西酞普兰可能会引发癫痫的发作，因此，有癫痫病史的患者慎用;\\n4.西酞普兰可能会引发躁狂的发作，因此，有躁狂病史的患者慎用;\\n5.严重肾功能障碍患者应慎用;\\n6.临床研究结果显示，西酞普兰可能会引发低钠血症和抗利尿激素分泌异常综合症，因此，在用药过程中应密切监测上述疾病的症状发生，并及时停药，采取适当的措施;\\n7.使用本品的患者应避免操作危险的机械，包括驾驶汽力;\\n8.使用本品的患者不应同时服用含酒精的制品。', '禁忌症': '对本品高度敏感者禁用;本品不能与单胺氧化酶抑制剂(MAOI’S)同时使用(见注意)。', '适应症': '各种类型的抑郁症。', '通用名称': '氢溴酸西酞普兰'}, 'title': '氢溴酸西酞普兰'}, vector=None),\n",
       " ScoredPoint(id=4309, version=8, score=0.8419045, payload={'attribute': '用法用量', 'category': '化学药品', 'embed_text': '盐酸舍曲林分散片 - 用法用量 治疗抑郁症：一日1次，5治疗剂量范围为一日50mg～100mg。治疗强迫症：开始剂量为一日一次，逐渐增加至一日100mg～200mg，分次口服', 'label': '药品库', 'meta_data': {'主要成分': '本品主要成分为盐酸舍曲林，其化学名称为:(1S-顺式)–4–(3,4–二氯苯基)–1,2,3,4–四氢–N–甲基–1–萘胺盐酸盐。其化学结构式为分子式:C17H17NCl2·HCl分子量:342.69', '儿童禁忌': '尽管儿童患者对舍曲林的代谢稍快，为了避免产生过高的血药浓度，对儿童强迫症患者建议使用较低剂量，尤其是6-12岁体重较轻的儿童。', '孕妇禁忌': '只有当妊娠期妇女服药的益处明显大于药物对胎儿的潜在风险时，方可服用本品。\\n妊娠-非致畸性影响-在妊娠晚期暴露于含舍曲林和其它SSRIs或SNRIs后，新生儿可出现并发症，并因此而需要延长住院，呼吸支持及管饲。这些发现基于上市报告，这些并发症可在分娩后立即出现，报告的临床表现包括呼吸困难、发组、呼吸暂停、痫性发作、体温不稳定、喂食困难、呕吐、低血糖、肌张力减低、肌张力增加、腱反射亢进、震颤、神经过敏、易激惹和持续哭闹。这些特点可能与SSRIs和SNRIs的直接毒性一致，或可能与停药综合征一致。应注意在一些病例中，临床表现与5-羟色胺综合征一致(可警告)。\\n婴儿在妊娠后期暴露于SSRIs，可能会增加新生儿持续性肺动脉高压(PPHN)风险。在整体人群中，每1，000例活产婴儿中会有1-2例PPHN，并可伴发显著的新生儿发病率和死亡率。一项回顾性病例对照研究，入组了377例婴儿出生时患有PPHN的女性，和836例婴儿出生时健康的女性，与妊娠期未暴露于抗抑郁药的婴儿相比，妊娠第20周后暴露于SSRIs的婴儿发生PPHN的风险约升高6倍。目前尚无妊娠期暴露于SSRIs后出现PPHN风险。当妊娠妇女在妊娠晚期服用本品时，医生应认真考虑治疗的潜在风险和收益。医生应注意，在一项201例有抑郁症病史的女性患者入组的前瞻性纵向试验中，妊娠开始时，她们服用抗抑郁药且情绪愉快，与继续服用抗抑郁药的女性相比，妊娠期间停用抗抑郁药的女性更可能病情复燃。\\n产程和分娩-舍曲林对人类产程和分娩的影响未知。\\n哺乳期妇女-尚不清楚舍曲林及其代谢产物是否经母乳分泌；如果经母乳分泌，其分泌量为多少亦未知。因许多药物可经母乳分泌，哺乳期妇女应慎用本品。', '注意事项': '警告：\\n临床症状的恶化和自杀风险\\n患有抑郁症的成年和儿童患者，无论是否服用抗抑郁药物，他们的抑郁都有可能恶化，并有可能出现自杀意念和自杀行为以及行为异常变化，这种风险一直会持续到病情发生明显缓解时为止。已知抑郁和某些精神障碍与自杀风险有关，并且这些精神障碍本身为自杀的最强的预兆。然而，长期以来一直有这些的担忧，在某些患者治疗早期，抗抑郁药物可能对诱导抑郁症状恶化，以及产生自杀意念、行为中起着作用。抗抑郁药物（SSRIs和其他）短期安慰剂对照研究汇总分析显示，在患有抑郁症（毫米D）和其他精神障碍的儿童、青少', '用法用量': '治疗抑郁症：一日1次，5治疗剂量范围为一日50mg～100mg。治疗强迫症：开始剂量为一日一次，逐渐增加至一日100mg～200mg，分次口服', '禁忌症': '本品禁用于对舍曲林过敏者。\\n舍曲林禁止与单胺氧化酶抑制剂(MAOIs)合用(参见【药物相互作用】)。\\n舍曲林禁止与匹莫齐特合用(参见【药物相互作用】)。', '老年人禁忌': '临床试验入组了663例≥65岁的美国老年抑郁患者，其中180例≥75岁，与年轻受试者报告的不良反应相比，在老年患者临床试验中观察到的总体不良反应模式无差异。而且，根据报告的其它经验，尚未发现老年和年轻受试者间的安全性模式存在差异。和其它药物一样，不排除一些老年患者具有更高的敏感性，一项舍曲林与安慰剂对照的临床试验，入组了947例老年抑郁症患者，与年轻受试者报告的疗效相比，在老年患者临床试验中观察到的总体疗效模式无差异。\\n老年患者中的其它不良事件：在354例老年患者参加的舍曲林和安慰剂对照试验中，总体不良事件基本与本说明书中列出的不良事件相似。尿路感染是唯一未列出一不良事件，在安慰剂对照试验中，报告其发生率≥2%，且高于安慰剂组。\\n老年患者应用SSRIs(包括舍曲林)和SNRIs后，可出现具有临床意义的低钠血症，该不良事件对老年患者的风险可能更大(见【注意事项】-低钠血症)。', '药物相互作用': '单胺氧化酶抑制剂：舍曲林合并单胺氧化酶抑制剂，包括选择性的单胺氧化酶抑制剂司来吉兰，可逆性的单胺氧化酶抑制剂吗氯贝胺，以及其它单胺氧化酶抑制剂药物(如利奈唑胺)，治疗出现了严重副反应，有时是致命性的。有些病例是类似5-羟色胺综合症的表现，包括：过高热、肌强直、肌肉痉挛、自主神经功能紊乱伴生命体征快速波动；精神状况的改变包括精神紊乱，易激惹及极度激越直至发展为谵妄和昏迷。所以，服用单胺氧化酶抑制剂时或停用单胺氧化酶抑制剂14天内不能服用舍曲林；同样，舍曲林停用后也需14天以上才能开始单胺氧化酶抑制剂的治疗。\\n匹莫齐特：在一项单剂低剂量匹莫齐特(2mg)与舍曲林合用的研究中证实，两药同服可使匹莫齐特的血浆浓度升高，升高的水平未引起EKG的变化。这种药物相互作用的机制尚不清楚，由于匹莫齐特的治疗窗较窄，禁止舍曲林与匹莫齐特同服。\\n中枢神经系统抑制剂和酒精：每日同时服用舍曲林200mg不会增加乙醇、卡马西平、氟哌啶醇或苯妥英对健康受试者认知功能和精神运动性活动能力的作用，但不主张舍曲林与酒精合用。\\n锂剂：对正常志愿者进行的安慰剂对照试验中，舍曲林与锂剂合用未明显改变锂剂的药代动力学参数，但与安慰剂相比震颤增多，表明两药之间存在药效学相互作用的可能，舍曲林与其它经5-羟色胺能机制起作用的药物如锂剂合用时，应对病人进行监护。\\n苯妥英：在健康志愿者的安慰剂对照试验中，每日200mg舍曲林长期服药并不显著地抑制苯妥英的代谢，然而，如需与舍曲林合用，在开始加用舍曲林时应当监测苯妥英的血药浓度，同时适当调整苯妥英的剂量。另外，与苯妥英合用可引起舍曲林血药浓度的下降。\\n舒马普坦：在舍曲林上市后，有个别报道舍曲林与舒马普坦合并使用后，病人出现体弱、腱反射亢进、共济失调、意识模糊、焦虑和激越。如果临床上确实需要舍曲林与该药合并使用的话，应当对病人进行密切的观察。\\n与蛋白结合的药物：因舍曲林与血浆蛋白结合，应注意舍曲林和其它与血浆蛋白结合药物之间相互作用的可能性。但是，舍曲林分别与地西洋、甲苯磺丁脲和华法林相互作用的三项正式研究中，未见舍曲林对这些药物的蛋白结合率有明显的影响。\\n华法林：舍曲林200mg/日与华法林合用可引起较小的但有统计学意义的凝血酶原时间的延长，其临床意义尚不明确。因此，舍曲林与华法林联合应用或停用时应密切监测凝血酶原时间。\\n与其它药物的相互作用：已进行了舍曲林与其它药物间相互作用的研究。每日舍曲林200mg与地西洋或甲苯磺丁脲合用可导致一些药代动力学参数较小的、但有统计学意义的改变。与西咪替丁合用可明显降低舍曲林的清除。这些改变的临床意义尚不清楚。舍曲林对阿替洛尔的β-肾上腺能阻滞作用无任何影响。每日舍曲林200mg格列本脲或地高辛之间无相互作用。\\n电休克治疗(ECT)：尚无考察舍曲林与电休克治疗合用优点或危险方面的临床试验。\\n细胞色素P450(CYP)2D6代谢的药物：抗抑郁药物对药物代谢同功酶CYP2D6的抑制作用程度是不尽相同的，其临床意义需取决于抑制作用的程度及合用药物的治疗指数，治疗指数较窄的CYP2D6底物包括如普罗帕酮(propafenone)、氟卡尼(flecainide)在内的三环类抗抑郁药物和1C类抗心律失常药物。已有的药物相互作用研究表明，每日50mg舍曲林长期给药可使地西帕明(disipramine，CYP2D6同功酶活性的标志物)稳态的血药浓度轻度增加(平均30-40%)。\\n其他细胞色素(CYP)酶代谢的药物(CYP3A3/4，CYP2C9，CYP2C19，CYP1A2)：\\nCYP3A3/4：体内药物相互作用试验表明长期服用舍曲林200mg/日不会对CYP3A3/4介导的内生皮质醇的羟化或卡马西平及特非那定的代谢产生抑制作用。另外，每日50mg舍曲林长期给药不会对CYP3A3/4介导的阿普唑伦药物代谢产生抑制作用。数据显示舍曲林不是CYP3A3/4的抑制剂。\\nCYP2C9：长期服用舍曲林200mg/日对甲苯磺丁脲、苯妥英和华法林的血药浓度没有明显影响。这说明舍曲林不是CYP2C9的临床相关抑制剂。\\nCYP2C19：长期服用舍曲林200mg/日对地西洋血药浓度无明显影响，说明舍曲林也非CYP2C19的抑制剂。\\nCYP1A2：体外试验研究表明舍曲林对CYP1A2无明显抑制作用。\\n其它5-羟色胺能药物：舍曲林与可增强5-羟色胺神经传导作用的药物如色氨酸或芬氟拉明，5-羟色胺激动剂，或中草药贯叶连翘(金丝桃属)合用时应慎重考虑，避免出现可能的药效学相互作用。', '适应症': '舍曲林用于治疗抑郁症的相关症状，包括伴随焦虑、有或无躁狂史的抑郁症。疗效满意后，继续服用舍曲林可有效地防止抑郁症的复发和再发。舍曲林也用于治疗强迫症。疗效满意后，继续服用舍曲林可有效地防止强迫症初始症。', '通用名称': '盐酸舍曲林分散片'}, 'title': '盐酸舍曲林分散片'}, vector=None),\n",
       " ScoredPoint(id=1783, version=3, score=0.8414496, payload={'attribute': '适应症', 'category': '化学药品', 'embed_text': '马来酸氟伏沙明片 瑞必乐  适应症 可用于抑郁症伴有青光眼、', 'label': '药品库', 'meta_data': {'主要成分': '化学名称:（E）-5-甲氧基-4”-三氟甲基苯戊酮-O-2-氯基乙基肟马来酸盐化学结构式:分子式:C15H21F3N2O2·C4H4O4分子量:434.4', '儿童禁忌': '因为缺乏本品儿童用药的安全性研究资料，所以本品不推荐给儿童使用。', '商品名称': '瑞必乐 ', '孕妇禁忌': '动物繁殖实验未发现高剂量马来酸氟伏沙明对繁殖能力的损害及致畸作用。但通常孕期应慎服任何药物。马来酸氟伏沙明可少量排入乳汁，故哺乳期妇女禁用。', '注意事项': '1.抑郁症病人自身常有自杀倾向，常在症状明显改善前持续出现。\\n2.对肝或肾功能异常的病人，起始剂量应较低并密切监控。偶见无已知肝功异常的患者服药后出现肝酶升高，且多伴临床症状。若出现此情况，应立即停药。\\n3.动物实验未发现本品可引发惊厥，但有癫痫史的患者应慎用，如惊厥发生应立即停用本品。\\n4.有报告应用5-羟色胺再摄取抑制剂有皮肤粘膜异常出血，如淤斑和紫癜。同时应用影响血小板功能的药物（TCAs，阿斯匹林，NSAIDs等），以及有不正常出血史患者慎用。\\n5.马来酸氟伏沙明在临床上可引起轻微心律减慢（2～6次/分）。\\n6.对驾驶和操作机器能力的影响：健康志愿者，每天服用本品3片，对驾驶或机械操作没有影响。但有报告表明，用药后可能会出现困倦，驾驶与操作机器者应注意。', '用法用量': '口服，每日100～200mg，分次服用，最大剂量为每日300mg。', '禁忌症': '1、  对马来酸氟伏沙明或其他辅料过敏者禁用；\\n2、  本品禁与单氨氧化酶抑制剂（MAOIs）联合应用，如果病人由服用单氨氧化酶抑制剂改服本品，治疗初期应注意：\\n如为不可逆转的单氨氧化酶抑制剂，至少应停药2周；\\n如为可逆转的单氨氧化酶抑制剂（如吗氯贝胺）可于停药后1天改服本品；\\n3、  若停用本品治疗，在改用单氨氧化酶抑制剂之前至少应停药1周。', '老年人禁忌': '老年人常规用量与年轻患者相比无显著临床差异，然而，对老年患者调整剂量时，应缓慢增量。', '药物相互作用': '1、 \\xa0本品不应与单氨氧化酶抑制剂合用。2、 \\xa0本品可使经肝脏代谢的药物分解速度减慢。当与华法林、苯妥英、茶碱和卡马西平等合用时，即会产生明显的临床效应。如合用，请调节这些药物的剂量。3、 \\xa0马来酸氟伏沙明可增加经氧化代谢的苯丙氮二卓的血浆浓度。有报告表明马来酸氟伏沙明可增加三环类抗抑郁药原有的稳态血浆浓度，建议本品不与三环类抗抑郁药同时应用。4、 \\xa0本品可提高心得安血浆水平，同服时建议减少心得安的剂量。5、 \\xa0本品与华法林合用两周，华法林的血浆浓度明显增加且凝血时间延长。患者在口服抗凝剂和氟伏沙明时，应监测凝血时间并相应调整氟伏沙明剂量。6、 \\xa0治疗严重的，已抗药的抑郁患者，本品可与锂剂合用。但锂和色氨酸可能加重氟伏沙明的5-羟色胺能作用。7、 \\xa0未观察到本品与地高辛和阿替洛尔的协同反应。8、 \\xa0与其它精神科用药一样，在马来酸氟伏沙明用药期间应避免摄入酒精。', '适应症': '可用于抑郁症伴有青光眼、', '通用名称': '马来酸氟伏沙明片'}, 'title': '马来酸氟伏沙明片'}, vector=None)]"
      ]
     },
     "execution_count": 12,
     "metadata": {},
     "output_type": "execute_result"
    }
   ],
   "source": [
    "import time\n",
    "start_time = time.time()\n",
    "query = '我有轻微抑郁症应该怎么办？'\n",
    "query_embed = encoder.encode([query])[0]\n",
    "res = client.search(\n",
    "    collection_name=my_collection,\n",
    "    query_vector=query_embed,\n",
    "    limit=4\n",
    ")\n",
    "# print(\"res\",res)\n",
    "end_time = time.time()\n",
    "elapsed_time = end_time - start_time\n",
    "\n",
    "print(f\"Time spent: {elapsed_time:.2f} seconds\")\n",
    "res"
   ]
  }
 ],
 "metadata": {
  "kernelspec": {
   "display_name": "kb_chat",
   "language": "python",
   "name": "python3"
  },
  "language_info": {
   "codemirror_mode": {
    "name": "ipython",
    "version": 3
   },
   "file_extension": ".py",
   "mimetype": "text/x-python",
   "name": "python",
   "nbconvert_exporter": "python",
   "pygments_lexer": "ipython3",
   "version": "3.9.17 (main, Jul  5 2023, 20:41:20) \n[GCC 11.2.0]"
  },
  "vscode": {
   "interpreter": {
    "hash": "03693e1d2aee19d2193851f4e3413a836ae353f69f44b82f7edfb9d4e604f925"
   }
  }
 },
 "nbformat": 4,
 "nbformat_minor": 5
}
