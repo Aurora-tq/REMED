{
 "cells": [
  {
   "cell_type": "code",
   "execution_count": 1,
   "metadata": {},
   "outputs": [
    {
     "name": "stderr",
     "output_type": "stream",
     "text": [
      "/home/pai/envs/kb_chat/lib/python3.9/site-packages/tqdm/auto.py:21: TqdmWarning: IProgress not found. Please update jupyter and ipywidgets. See https://ipywidgets.readthedocs.io/en/stable/user_install.html\n",
      "  from .autonotebook import tqdm as notebook_tqdm\n"
     ]
    },
    {
     "name": "stdout",
     "output_type": "stream",
     "text": [
      "[2023-09-19 06:38:55,758] [INFO] [real_accelerator.py:158:get_accelerator] Setting ds_accelerator to cuda (auto detect)\n"
     ]
    }
   ],
   "source": [
    "import torch\n",
    "import torchvision\n",
    "from chatglm1 import *\n",
    "from chatglm2 import *\n",
    "import pandas as pd\n",
    "import json\n",
    "import time\n",
    "import faiss\n",
    "import numpy as np\n",
    "import matplotlib.pyplot as plt\n",
    "import matplotlib\n",
    "from Dataset_improved import *\n",
    "# from chains.local_doc_qa import LocalDocQA\n",
    "from langchain.docstore.document import Document\n",
    "from langchain.vectorstores import FAISS\n",
    "from langchain.docstore.base import AddableMixin, Docstore\n",
    "import matplotlib.pyplot as plt\n",
    "from sklearn.metrics import average_precision_score,precision_recall_curve\n",
    "# 加载原始数据\n",
    "raw_data = read_json_file(\"/mnt/workspace/pangtianqi/medical_kb_chatbot/data/test_demo.json\")\n",
    "testing_dataset = MyDataset(raw_data)\n",
    "testing_dataloader = torch.utils.data.DataLoader(testing_dataset, batch_size=1, shuffle=False)"
   ]
  },
  {
   "cell_type": "code",
   "execution_count": 2,
   "metadata": {},
   "outputs": [],
   "source": [
    "#labels_recall ->所有label存在一个列表\n",
    "#labels ->按照问题划分的label列表\n",
    "testing_text = []\n",
    "labels_list = []\n",
    "labels_list_recall = []\n",
    "for batch_data in testing_dataloader:\n",
    "    data, label = batch_data[2:]\n",
    "    for idx in data:\n",
    "        for content in idx:\n",
    "            testing_text.append(content)\n",
    "    labels_list_recall.append(label)\n",
    "    for i in label:\n",
    "        labels_list.append(i)\n",
    "    # print(labels_list)\n",
    "labels_recall = [torch.cat(tensor).tolist() for tensor in labels_list_recall]\n",
    "labels = [tensor.item() for tensor in labels_list]\n",
    "#print(\"testing_text\",testing_text)\n",
    "# print(\"label_recall\",labels_recall)"
   ]
  },
  {
   "cell_type": "code",
   "execution_count": 3,
   "metadata": {},
   "outputs": [],
   "source": [
    "from sentence_transformers import SentenceTransformer\n",
    "encoder = SentenceTransformer('/mnt/workspace/pangtianqi/medical_kb_chatbot/moka-ai/m3e-base', device='cuda:0')\n",
    "content_list = []\n",
    "for batch_data in testing_text:\n",
    "    # data, label = batch_data[2:]\n",
    "    content_vectors = encoder.encode(batch_data)\n",
    "    content_list.append(content_vectors)\n",
    "\n",
    "vectors = np.array(content_list,dtype=np.float32)"
   ]
  },
  {
   "cell_type": "code",
   "execution_count": 7,
   "metadata": {},
   "outputs": [
    {
     "name": "stdout",
     "output_type": "stream",
     "text": [
      "原始数据形状: [[ 0.40726885  0.25266618  0.5639562  ... -0.82608134 -0.44088337\n",
      "  -0.2532817 ]\n",
      " [ 0.4660251   0.24446245  0.30897647 ... -1.002208   -0.33304214\n",
      "  -0.03854139]\n",
      " [ 0.54311955  0.5339352   0.5594772  ... -0.9275461  -0.37917095\n",
      "  -0.17953338]\n",
      " ...\n",
      " [ 0.25744325  0.23370641 -0.016852   ... -0.32391912 -0.47256005\n",
      "  -0.7664421 ]\n",
      " [-0.13081086  0.4449784   0.4029541  ... -0.7584297  -0.72457683\n",
      "  -0.79325604]\n",
      " [ 0.01894369  0.626241    0.5815307  ... -0.19894889 -1.1303027\n",
      "  -1.1365415 ]]\n",
      "增强后的数据形状: [[-0.2532817  -0.44088337 -0.82608134 ...  0.5639562   0.25266618\n",
      "   0.40726885]\n",
      " [-0.03854139 -0.33304214 -1.002208   ...  0.30897647  0.24446245\n",
      "   0.4660251 ]\n",
      " [-0.17953338 -0.37917095 -0.9275461  ...  0.5594772   0.5339352\n",
      "   0.54311955]\n",
      " ...\n",
      " [-0.7664421  -0.47256005 -0.32391912 ... -0.016852    0.23370641\n",
      "   0.25744325]\n",
      " [-0.79325604 -0.72457683 -0.7584297  ...  0.4029541   0.4449784\n",
      "  -0.13081086]\n",
      " [-1.1365415  -1.1303027  -0.19894889 ...  0.5815307   0.626241\n",
      "   0.01894369]]\n"
     ]
    }
   ],
   "source": [
    "import torch\n",
    "import torchvision.transforms as transforms\n",
    "\n",
    "# 创建数据增强的变换操作\n",
    "# transform = transforms.Compose([\n",
    "#     transforms.RandomHorizontalFlip(),  # 随机水平翻转\n",
    "#     transforms.RandomVerticalFlip(),    # 随机垂直翻转\n",
    "#     transforms.RandomRotation(10),      # 随机旋转（角度范围为-10到10）\n",
    "#     transforms.RandomResizedCrop(224),  # 随机裁剪和缩放到指定大小\n",
    "#     transforms.ToTensor(),              # 转换为Tensor对象\n",
    "# ])\n",
    "\n",
    "\n",
    "augmented_data = np.flip(vectors, axis=1)\n",
    "# data = torch.randn(3, 256, 256)  # 假设原始数据是一个3通道的256x256图像\n",
    "\n",
    "# 进行数据增强\n",
    "# augmented_data = transform(vectors)\n",
    "\n",
    "# 显示原始数据和增强后的数据\n",
    "print(\"原始数据形状:\", vectors)\n",
    "print(\"增强后的数据形状:\", augmented_data)"
   ]
  },
  {
   "cell_type": "code",
   "execution_count": 2,
   "metadata": {},
   "outputs": [
    {
     "name": "stdout",
     "output_type": "stream",
     "text": [
      "KL散度: 0.05232481437645474\n"
     ]
    }
   ],
   "source": [
    "import numpy as np\n",
    "\n",
    "def compute_kl_divergence(p, q):\n",
    "    kl_divergence = np.sum(p * np.log(p / q))\n",
    "    return kl_divergence\n",
    "\n",
    "# 示例：计算两个离散概率分布的KL散度\n",
    "p = np.array([0.2, 0.3, 0.5])\n",
    "q = np.array([0.1, 0.4, 0.5])\n",
    "\n",
    "kl_divergence = compute_kl_divergence(p, q)\n",
    "print(\"KL散度:\", kl_divergence)"
   ]
  },
  {
   "cell_type": "code",
   "execution_count": null,
   "metadata": {},
   "outputs": [],
   "source": [
    "#给q再加上关键词 "
   ]
  }
 ],
 "metadata": {
  "kernelspec": {
   "display_name": "kb_chat",
   "language": "python",
   "name": "python3"
  },
  "language_info": {
   "codemirror_mode": {
    "name": "ipython",
    "version": 3
   },
   "file_extension": ".py",
   "mimetype": "text/x-python",
   "name": "python",
   "nbconvert_exporter": "python",
   "pygments_lexer": "ipython3",
   "version": "3.9.17 (main, Jul  5 2023, 20:41:20) \n[GCC 11.2.0]"
  },
  "orig_nbformat": 4,
  "vscode": {
   "interpreter": {
    "hash": "03693e1d2aee19d2193851f4e3413a836ae353f69f44b82f7edfb9d4e604f925"
   }
  }
 },
 "nbformat": 4,
 "nbformat_minor": 2
}
